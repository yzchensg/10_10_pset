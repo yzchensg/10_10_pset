{
  "nbformat": 4,
  "nbformat_minor": 0,
  "metadata": {
    "colab": {
      "provenance": []
    },
    "kernelspec": {
      "name": "python3",
      "display_name": "Python 3"
    },
    "language_info": {
      "name": "python"
    }
  },
  "cells": [
    {
      "cell_type": "code",
      "execution_count": null,
      "metadata": {
        "id": "pGtUQkK87vFm"
      },
      "outputs": [],
      "source": [
        "import numpy as np\n",
        "import matplotlib.pyplot as plt\n",
        "from tenten_v2 import makematrix\n",
        "from tenten_v2 import checkmatrix\n"
      ]
    },
    {
      "cell_type": "code",
      "source": [
        "def mixer(CV,streams):\n",
        "  \"\"\"\n",
        "  generic mixer function takes in a CV that is a mixer\n",
        "  input streams and single output streams are defined in the CV variable\n",
        "  streams is all our stream component flows in the whole system\n",
        "\n",
        "  we apply a simple mass balance, but to the correct streams\n",
        "  \"\"\"\n",
        "\n",
        "  in_index = 1\n",
        "  out_index = 2\n",
        "  strs_in = CV[in_index]     # numbers of the inlet streams\n",
        "  str_out = CV[out_index]    # numbers of the outlet streams\n",
        "\n",
        "  #balance equation accesses the particular stream values of interest\n",
        "  #ins = outs\n",
        "  acc = (streams[strs_in[0]] + streams[strs_in[1]])  -  (streams[str_out[0]])\n",
        "\n",
        "  return acc"
      ],
      "metadata": {
        "id": "JqYVwnViSVH_"
      },
      "execution_count": null,
      "outputs": []
    },
    {
      "cell_type": "code",
      "source": [
        "def mixertree(X):\n",
        "\n",
        "  \"\"\"blending problem\n",
        "  7 streams, 2 components, 3 mixers\n",
        "h ere, the stream connectivity\n",
        " 0 + 1 = 2 in mixer 1\n",
        "2 + 3 = 4 in mixer 2\n",
        "5+ 4 = 6 in mixer 3\n",
        "  \"\"\"\n",
        "\n",
        "  num_streams = 7\n",
        "  num_compts = 2\n",
        "  streams = X.reshape( (num_streams,num_compts) )\n",
        "\n",
        "  CV =  [   [[\"mixer\"], [0,1], [2]],  \\\n",
        "            [[\"mixer\"] ,[2,3], [4]],  \\\n",
        "            [[\"mixer\"], [5,4], [6]]     ]\n",
        "\n",
        "  # initialize n and eq\n",
        "  n = 0\n",
        "  eq = np.zeros(X.size)\n",
        "\n",
        "\n",
        "  # loop over CVs\n",
        "  for i in CV:\n",
        "      if i[0][0] == \"mixer\":\n",
        "        eq[n:n+num_compts] = mixer(i,streams)\n",
        "      n = n+num_compts\n",
        "\n",
        "\n",
        "\n",
        "  # add final constraints\n",
        "  eq[n]   = streams[0,0]  - 100    # stream 0 pure A\n",
        "  eq[n+1] = streams[0,1]  - 0    # stream 0\n",
        "\n",
        "  eq[n+2] = streams[1,0]  - 0    # stream 1 pure B\n",
        "  eq[n+3] = streams[1,1]  - 150    # stream 1\n",
        "\n",
        "  eq[n+4] = streams[3,0] - 75    # stream 3 75/25\n",
        "  eq[n+5] = streams[3,1] - 25    # stream 3\n",
        "\n",
        "  eq[n+6] = streams[5,0] - 5    # stream 5 lots of B\n",
        "  eq[n+7] = streams[5,1] - 95   # stream 5\n",
        "\n",
        "\n",
        "  return eq\n",
        "\n"
      ],
      "metadata": {
        "id": "rjiytnFB8L5p"
      },
      "execution_count": null,
      "outputs": []
    },
    {
      "cell_type": "code",
      "source": [],
      "metadata": {
        "id": "o2VmEGVVRdkv"
      },
      "execution_count": null,
      "outputs": []
    },
    {
      "cell_type": "code",
      "source": [
        "A,b = makematrix(mixertree,14)\n",
        "checkmatrix(A)\n",
        "solution = np.linalg.solve(A, b)\n",
        "\n",
        "print(solution)\n",
        "streams = solution.reshape( (7,2) )\n",
        "print(f\"\\n\\n{streams}\")"
      ],
      "metadata": {
        "colab": {
          "base_uri": "https://localhost:8080/"
        },
        "id": "bF2CO3OWPlhr",
        "outputId": "c9a48d2b-710c-4c94-efdb-216dfbf938a1"
      },
      "execution_count": null,
      "outputs": [
        {
          "output_type": "stream",
          "name": "stdout",
          "text": [
            "# of equations m = 14 and # of unknowns N = 14\n",
            "[100.   0.  -0. 150. 100. 150.  75.  25. 175. 175.   5.  95. 180. 270.]\n",
            "\n",
            "\n",
            "[[100.   0.]\n",
            " [ -0. 150.]\n",
            " [100. 150.]\n",
            " [ 75.  25.]\n",
            " [175. 175.]\n",
            " [  5.  95.]\n",
            " [180. 270.]]\n"
          ]
        }
      ]
    }
  ]
}