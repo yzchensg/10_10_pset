{
 "cells": [
  {
   "cell_type": "code",
   "execution_count": 4,
   "id": "506ad4f7",
   "metadata": {},
   "outputs": [],
   "source": [
    "from tenten_v1 import makematrix\n",
    "import numpy as np"
   ]
  },
  {
   "cell_type": "markdown",
   "id": "236f44cc",
   "metadata": {},
   "source": [
    "## Problem 1 \n",
    "### Part 1"
   ]
  },
  {
   "cell_type": "code",
   "execution_count": 31,
   "id": "9c4e8b25",
   "metadata": {},
   "outputs": [],
   "source": [
    "def forward_1_1(X):\n",
    "    \"\"\"\n",
    "    Forward model for problem 2.2-5\n",
    "    X: array of unknowns [m1, m2, m3, m4]\n",
    "    Returns: array of equations evaluated at X\n",
    "\n",
    "    material balances:\n",
    "        Total:          m1 = m2 + m3 + m4\n",
    "        A:           0.3m1 = 0.3m3 + m4\n",
    "        m1:             m1 = 100\n",
    "        m2:             m2 = 50\n",
    "\n",
    "    \"\"\"\n",
    "    m1, m2, m3, m4 = X\n",
    "\n",
    "    m = 4 # 4 independent balance equations total, salt, draw chemical\n",
    "    eq = np.zeros(m)\n",
    "\n",
    "    # material balances, open system CV, steady-state, no reactions\n",
    "    eq[0] = (m1)    - (m2 + m3  + m4)                # Total\n",
    "    eq[1] = (0.3*m1)    - (0.3* m3 + m4)     # A\n",
    "    eq[2] = m1 - 100     # m1\n",
    "    eq[3] = m2 - 50 # m2\n",
    "\n",
    "    return eq"
   ]
  },
  {
   "cell_type": "code",
   "execution_count": 59,
   "id": "d72e356c",
   "metadata": {},
   "outputs": [
    {
     "name": "stdout",
     "output_type": "stream",
     "text": [
      "# of equations m = 4 and # of unknowns N = 4\n",
      "Matrix A:\n",
      "[[ 1.  -1.  -1.  -1. ]\n",
      " [ 0.3  0.  -0.3 -1. ]\n",
      " [ 1.   0.   0.   0. ]\n",
      " [ 0.   1.   0.   0. ]]\n",
      "Vector b:\n",
      "[ -0.  -0. 100.  50.]\n",
      "m3: 28.57; m4: 21.43\n",
      "No unit in this problem\n"
     ]
    }
   ],
   "source": [
    "\"\"\"\n",
    "make matrices and solve the problem\n",
    "\"\"\"\n",
    "A,b = makematrix(forward_1_1,4) \n",
    "print(f\"Matrix A:\\n{A}\")\n",
    "print(f\"Vector b:\\n{b}\")\n",
    "\n",
    "solution = np.linalg.solve(A, b)\n",
    "\n",
    "print(f'm3: {solution[2]:.2f}; m4: {solution[3]:.2f}')\n",
    "print('No unit in this problem')"
   ]
  },
  {
   "cell_type": "markdown",
   "id": "aef4994e",
   "metadata": {},
   "source": [
    "### Part 2"
   ]
  },
  {
   "cell_type": "code",
   "execution_count": 33,
   "id": "1c691428",
   "metadata": {},
   "outputs": [],
   "source": [
    "def water_vapor_fraction(T):\n",
    "    '''\n",
    "    Input: T in deg C\n",
    "    Output: mass fraction of water vapor in cool gas stream\n",
    "    '''\n",
    "    return 583 * (0.001 * np.exp(5132 / (T + 273.15)) - 356) ** (-1)\n",
    "\n",
    "\n",
    "def forward_1_2(X):\n",
    "    \"\"\"\n",
    "    Forward model for problem 2.2-5\n",
    "    X: array of unknowns [m1, m2, m3a, m3h, m4]\n",
    "    Returns: array of equations evaluated at X\n",
    "\n",
    "    material balances:\n",
    "        Total:          m1 + m2 = m3a + m3h + m4\n",
    "        Air:            m1 = m3a\n",
    "        m1:             m1 = 1\n",
    "        m3h:            m3h = m3a * f(T)/(1 - f(T))\n",
    "        energy:         whatever copied from answer key\n",
    "\n",
    "\n",
    "    \"\"\"\n",
    "    m1, m2, m3a, m3h, m4 = X\n",
    "    T = 11\n",
    "\n",
    "    m = 5 \n",
    "    eq = np.zeros(m)\n",
    "\n",
    "    # material balances, open system CV, steady-state, no reactions\n",
    "    eq[0] = (m1 + m2)    - (m3a + m3h  + m4)                # Total\n",
    "    eq[1] = m1 - m3a     # Air\n",
    "    eq[2] = m1 - 1     # m1\n",
    "    eq[3] = m3h - m3a * water_vapor_fraction(T) / (1 - water_vapor_fraction(T)) # water vapor fraction\n",
    "    eq[4] = m1 * 1.0 * (35 - T) - m3h * (4.2 * (100 - 10) + 2300 + 2.0 *(T - 100)) -  m4 * (4.2 * (T - 10))\n",
    " \n",
    "    return eq"
   ]
  },
  {
   "cell_type": "code",
   "execution_count": 58,
   "id": "4a85f779",
   "metadata": {},
   "outputs": [
    {
     "name": "stdout",
     "output_type": "stream",
     "text": [
      "# of equations m = 5 and # of unknowns N = 5\n",
      "Matrix A:\n",
      "[[ 1.00e+00  1.00e+00 -1.00e+00 -1.00e+00 -1.00e+00]\n",
      " [ 1.00e+00  0.00e+00 -1.00e+00  0.00e+00  0.00e+00]\n",
      " [ 1.00e+00  0.00e+00  0.00e+00  0.00e+00  0.00e+00]\n",
      " [ 0.00e+00  0.00e+00 -8.47e-03  1.00e+00  0.00e+00]\n",
      " [ 2.40e+01  0.00e+00  0.00e+00 -2.50e+03 -4.20e+00]]\n",
      "Vector b:\n",
      "[-0. -0.  1. -0. -0.]\n",
      "m2: 0.6819 kg/s\n",
      "m3, air: 1.0000 kg/s\n",
      "m3, h2o: 0.0085 kg/s\n",
      "m4: 0.6735 kg/s\n"
     ]
    }
   ],
   "source": [
    "\"\"\"\n",
    "make matrices and solve the problem\n",
    "\"\"\"\n",
    "A,b = makematrix(forward_1_2,5) \n",
    "print(f\"Matrix A:\\n{A}\")\n",
    "print(f\"Vector b:\\n{b}\")\n",
    "\n",
    "solution = np.linalg.solve(A, b)\n",
    "\n",
    "print(f'm2: {solution[1]:.4f} kg/s')\n",
    "print(f'm3, air: {solution[2]:.4f} kg/s')\n",
    "print(f'm3, h2o: {solution[3]:.4f} kg/s')\n",
    "print(f'm4: {solution[4]:.4f} kg/s')"
   ]
  },
  {
   "cell_type": "markdown",
   "id": "23900fd0",
   "metadata": {},
   "source": [
    "### Part 3"
   ]
  },
  {
   "cell_type": "code",
   "execution_count": 35,
   "id": "9449ca70",
   "metadata": {},
   "outputs": [],
   "source": [
    "def forward_1_3(X):\n",
    "    \"\"\"\n",
    "    Forward model for problem 2.2-5\n",
    "    X: array of unknowns [m1, m2, m3a, m3h, m4]\n",
    "    Returns: array of equations evaluated at X\n",
    "\n",
    "    material balances:\n",
    "        Total:          m1 + m2 = m3a + m3h + m4\n",
    "        Air:            m1 = m3a\n",
    "        water:          m2 = 1\n",
    "        m3h:            m3h = m3a * f(T)/(1 - f(T))\n",
    "        energy:         whatever copied from answer key\n",
    "\n",
    "\n",
    "    \"\"\"\n",
    "    m1, m2, m3a, m3h, m4 = X\n",
    "    T = 11\n",
    "\n",
    "    m = 5 \n",
    "    eq = np.zeros(m)\n",
    "\n",
    "    # material balances, open system CV, steady-state, no reactions\n",
    "    eq[0] = (m1 + m2)    - (m3a + m3h  + m4)                # Total\n",
    "    eq[1] = m1 - m3a     # Air\n",
    "    eq[2] = m2 - 1     # m1\n",
    "    eq[3] = m3h - m3a * water_vapor_fraction(T) / (1 - water_vapor_fraction(T)) # water vapor fraction\n",
    "    eq[4] = m1 * 1.0 * (35 - T) - m3h * (4.2 * (100 - 10) + 2300 + 2.0 *(T - 100)) -  m4 * (4.2 * (T - 10))\n",
    "    \n",
    "    return eq"
   ]
  },
  {
   "cell_type": "code",
   "execution_count": 36,
   "id": "adc1b5b9",
   "metadata": {},
   "outputs": [
    {
     "name": "stdout",
     "output_type": "stream",
     "text": [
      "# of equations m = 5 and # of unknowns N = 5\n",
      "Matrix A:\n",
      "[[ 1.00e+00  1.00e+00 -1.00e+00 -1.00e+00 -1.00e+00]\n",
      " [ 1.00e+00  0.00e+00 -1.00e+00  0.00e+00  0.00e+00]\n",
      " [ 0.00e+00  1.00e+00  0.00e+00  0.00e+00  0.00e+00]\n",
      " [ 0.00e+00  0.00e+00 -8.47e-03  1.00e+00  0.00e+00]\n",
      " [ 2.40e+01  0.00e+00  0.00e+00 -2.50e+03 -4.20e+00]]\n",
      "Vector b:\n",
      "[-0. -0.  1. -0. -0.]\n",
      "m1: 1.4664 kg/s\n",
      "m3a: 1.4664 kg/s\n",
      "m3h: 0.0124 kg/s\n",
      "m4: 0.9876 kg/s\n"
     ]
    }
   ],
   "source": [
    "\"\"\"\n",
    "make matrices and solve the problem\n",
    "\"\"\"\n",
    "A,b = makematrix(forward_1_3,5) \n",
    "print(f\"Matrix A:\\n{A}\")\n",
    "print(f\"Vector b:\\n{b}\")\n",
    "\n",
    "solution = np.linalg.solve(A, b)\n",
    "\n",
    "print(f'm1: {solution[0]:.4f} kg/s')\n",
    "print(f'm3a: {solution[2]:.4f} kg/s')\n",
    "print(f'm3h: {solution[3]:.4f} kg/s')\n",
    "print(f'm4: {solution[4]:.4f} kg/s')"
   ]
  },
  {
   "cell_type": "markdown",
   "id": "365e5ffe",
   "metadata": {},
   "source": [
    "### Part 4"
   ]
  },
  {
   "cell_type": "markdown",
   "id": "39d3b1a2",
   "metadata": {},
   "source": [
    "Energy balance on condenser cannot be computed, as information on $Cp_{\\text{water}(v)}$, $Q$, $W$, are not given. "
   ]
  },
  {
   "cell_type": "code",
   "execution_count": 61,
   "id": "3bb655e8",
   "metadata": {},
   "outputs": [],
   "source": [
    "def forward_1_4(X):\n",
    "    \"\"\"\n",
    "    Forward model for problem 2.2-5\n",
    "    X:\n",
    "    m1a: m1_air\n",
    "    m1h: m1_h2o(v)\n",
    "    n3a: n3_air\n",
    "    n3h: n3_h2o\n",
    "    P: operating pressure\n",
    "    Returns: array of equations evaluated at X\n",
    "    \"\"\"\n",
    "    m1a, m1h, n3a, n3h, m2, P = X\n",
    "\n",
    "    MW_air = 0.029  # kg/mol\n",
    "    MW_h2o = 0.018 # kg/mol\n",
    "    P_vap = 92.5 # mmHg\n",
    "    w_cond = ... # unknown\n",
    "    cp_choc = 3.5 # J/molC\n",
    "    cp_h2o = 5 # J/molC, liquid water at 50C \n",
    "\n",
    "    m = 6\n",
    "    eq = np.zeros(m)\n",
    "\n",
    "    # equations\n",
    "    # material balances\n",
    "    eq[0] = MW_air* n3a + MW_air * n3h - (m1a + m1h - m2)   # material balance on condenser\n",
    "    eq[1] = m1h - n3h * MW_h2o - m2 # material balance on water, condenser\n",
    "\n",
    "    # energy balances\n",
    "    eq[2] = m2 - 3.5 / 5 * 125      # energy balance on heat exchanger\n",
    "    eq[3] = 2256 * m1h +  ... # + W + Q + sum nH         # energy balance on condenser\n",
    "\n",
    "    # Rault's law\n",
    "    eq[4] = P_vap - P * (n3h / (n3h + n3a)) # Rault's law, non linear!\n",
    "    \n",
    "    # inlet constraint\n",
    "    eq[5] = m1a + m1h - 150         # Total inlet \n",
    "\n",
    "   \n",
    "    return eq\n",
    "\n",
    "def operating_pressure(m1a, m1h, m2):\n",
    "    '''\n",
    "    Input: m1, m2 in kg/s\n",
    "    output  : operating pressure in Pa\n",
    "    '''\n",
    "    P_vap = 92.5 # mmHg\n",
    "    MW_air = 0.029  \n",
    "    MW_h2o = 0.018 # kg/mol\n",
    "    return P_vap * MW_h2o * (m1a + m1h - m2) / (MW_air * (m1h - m2))"
   ]
  },
  {
   "cell_type": "code",
   "execution_count": 62,
   "id": "0438db8d",
   "metadata": {},
   "outputs": [
    {
     "ename": "TypeError",
     "evalue": "unsupported operand type(s) for +: 'float' and 'ellipsis'",
     "output_type": "error",
     "traceback": [
      "\u001b[31m---------------------------------------------------------------------------\u001b[39m",
      "\u001b[31mTypeError\u001b[39m                                 Traceback (most recent call last)",
      "\u001b[36mCell\u001b[39m\u001b[36m \u001b[39m\u001b[32mIn[62]\u001b[39m\u001b[32m, line 4\u001b[39m\n\u001b[32m      1\u001b[39m \u001b[33;03m\"\"\"\u001b[39;00m\n\u001b[32m      2\u001b[39m \u001b[33;03mmake matrices and solve the problem\u001b[39;00m\n\u001b[32m      3\u001b[39m \u001b[33;03m\"\"\"\u001b[39;00m\n\u001b[32m----> \u001b[39m\u001b[32m4\u001b[39m A,b = \u001b[43mmakematrix\u001b[49m\u001b[43m(\u001b[49m\u001b[43mforward_1_4\u001b[49m\u001b[43m,\u001b[49m\u001b[32;43m6\u001b[39;49m\u001b[43m)\u001b[49m \n\u001b[32m      5\u001b[39m \u001b[38;5;28mprint\u001b[39m(\u001b[33mf\u001b[39m\u001b[33m\"\u001b[39m\u001b[33mMatrix A:\u001b[39m\u001b[38;5;130;01m\\n\u001b[39;00m\u001b[38;5;132;01m{\u001b[39;00mA\u001b[38;5;132;01m}\u001b[39;00m\u001b[33m\"\u001b[39m)\n\u001b[32m      6\u001b[39m \u001b[38;5;28mprint\u001b[39m(\u001b[33mf\u001b[39m\u001b[33m\"\u001b[39m\u001b[33mVector b:\u001b[39m\u001b[38;5;130;01m\\n\u001b[39;00m\u001b[38;5;132;01m{\u001b[39;00mb\u001b[38;5;132;01m}\u001b[39;00m\u001b[33m\"\u001b[39m)\n",
      "\u001b[36mFile \u001b[39m\u001b[32m/mnt/d/10_10/tenten_v1.py:27\u001b[39m, in \u001b[36mmakematrix\u001b[39m\u001b[34m(func, N)\u001b[39m\n\u001b[32m     25\u001b[39m \u001b[38;5;28;01mimport\u001b[39;00m\u001b[38;5;250m \u001b[39m\u001b[34;01mnumpy\u001b[39;00m\u001b[38;5;250m \u001b[39m\u001b[38;5;28;01mas\u001b[39;00m\u001b[38;5;250m \u001b[39m\u001b[34;01mnp\u001b[39;00m\n\u001b[32m     26\u001b[39m dummy = np.zeros(N) \u001b[38;5;66;03m# initializing a vector with N elements\u001b[39;00m\n\u001b[32m---> \u001b[39m\u001b[32m27\u001b[39m b = -\u001b[43mfunc\u001b[49m\u001b[43m(\u001b[49m\u001b[43mdummy\u001b[49m\u001b[43m)\u001b[49m              \u001b[38;5;66;03m# determine b\u001b[39;00m\n\u001b[32m     28\u001b[39m m = \u001b[38;5;28mlen\u001b[39m(b)                      \u001b[38;5;66;03m# can have different equations != N\u001b[39;00m\n\u001b[32m     29\u001b[39m \u001b[38;5;28mprint\u001b[39m(\u001b[33mf\u001b[39m\u001b[33m\"\u001b[39m\u001b[33m# of equations m = \u001b[39m\u001b[38;5;132;01m{\u001b[39;00mm\u001b[38;5;132;01m}\u001b[39;00m\u001b[33m and # of unknowns N = \u001b[39m\u001b[38;5;132;01m{\u001b[39;00mN\u001b[38;5;132;01m}\u001b[39;00m\u001b[33m\"\u001b[39m)\n",
      "\u001b[36mCell\u001b[39m\u001b[36m \u001b[39m\u001b[32mIn[61]\u001b[39m\u001b[32m, line 31\u001b[39m, in \u001b[36mforward_1_4\u001b[39m\u001b[34m(X)\u001b[39m\n\u001b[32m     29\u001b[39m \u001b[38;5;66;03m# energy balances\u001b[39;00m\n\u001b[32m     30\u001b[39m eq[\u001b[32m2\u001b[39m] = m2 - \u001b[32m3.5\u001b[39m / \u001b[32m5\u001b[39m * \u001b[32m125\u001b[39m      \u001b[38;5;66;03m# energy balance on heat exchanger\u001b[39;00m\n\u001b[32m---> \u001b[39m\u001b[32m31\u001b[39m eq[\u001b[32m3\u001b[39m] = \u001b[32;43m2256\u001b[39;49m\u001b[43m \u001b[49m\u001b[43m*\u001b[49m\u001b[43m \u001b[49m\u001b[43mm1h\u001b[49m\u001b[43m \u001b[49m\u001b[43m+\u001b[49m\u001b[43m  \u001b[49m\u001b[43m.\u001b[49m\u001b[43m.\u001b[49m\u001b[43m.\u001b[49m \u001b[38;5;66;03m# + W + Q + sum nH         # energy balance on condenser\u001b[39;00m\n\u001b[32m     33\u001b[39m \u001b[38;5;66;03m# Rault's law\u001b[39;00m\n\u001b[32m     34\u001b[39m eq[\u001b[32m4\u001b[39m] = P_vap - P * (n3h / (n3h + n3a)) \u001b[38;5;66;03m# Rault's law, non linear!\u001b[39;00m\n",
      "\u001b[31mTypeError\u001b[39m: unsupported operand type(s) for +: 'float' and 'ellipsis'"
     ]
    }
   ],
   "source": [
    "\"\"\"\n",
    "make matrices and solve the problem\n",
    "\"\"\"\n",
    "A,b = makematrix(forward_1_4,6) \n",
    "print(f\"Matrix A:\\n{A}\")\n",
    "print(f\"Vector b:\\n{b}\")\n",
    "\n",
    "solution = np.linalg.solve(A, b)\n",
    "\n",
    "m1 = solution[0] + solution[1]\n",
    "x1air = solution[0] / m1\n",
    "x1h2o = solution[1] / m1\n",
    "n3 = solution[2] + solution[3]  \n",
    "y3air = solution[2] / n3\n",
    "y3h2o = solution[3] / n3\n",
    "m2 = solution[4]\n",
    "\n",
    "print(f'x1_air: {x1air:.4f}')\n",
    "print(f'x1_h2o: {x1h2o:.4f}')\n",
    "print(f'n3: {n3:.4f} mol/s')\n",
    "print(f'y3_air: {y3air:.4f}')\n",
    "print(f'y3_h2o: {y3h2o:.4f}')\n",
    "print(f'm2: {m2:.2f} kg/s')\n",
    "\n",
    "print(f'Operating pressure: {operating_pressure(solution[0], solution[1], m2):.2f} mmHg')"
   ]
  },
  {
   "cell_type": "markdown",
   "id": "ba0ce21f",
   "metadata": {},
   "source": [
    "## Problem 2"
   ]
  },
  {
   "cell_type": "markdown",
   "id": "054e6437",
   "metadata": {},
   "source": [
    "### Part 1\n",
    "By Le Chatelier's, a drop in pressure would push $l \\to g$ equilibrium forward to counter such change; thus some liquid would be vaporized."
   ]
  },
  {
   "cell_type": "markdown",
   "id": "238abf6b",
   "metadata": {},
   "source": [
    "### Part 2"
   ]
  },
  {
   "cell_type": "code",
   "execution_count": 67,
   "id": "71bfcdda",
   "metadata": {},
   "outputs": [],
   "source": [
    "def forward_2(X):\n",
    "    \"\"\"\n",
    "    Forward model for problem 2.2-5\n",
    "    X: array of unknowns nb, nt, ne, nx: flow rates of outlet vapor for each component (mol/min)\n",
    "    n_liq: flow rate of outlet liquid, total (mol/min)\n",
    "    Returns: array of equations evaluated at X\n",
    "    \"\"\"\n",
    "    nb, nt, ne, nx, n_liq= X\n",
    "\n",
    "    m = 5\n",
    "    eq = np.zeros(m)\n",
    "\n",
    "    # material balances, open system CV, steady-state, no reactions\n",
    "    eq[0] = 100 - 0.08 * n_liq - nb        # material balance for B\n",
    "    eq[1] = 100 - 0.17 * n_liq - nt        # material balance for T\n",
    "    eq[2] = 100 - 0.35 * n_liq - ne        # material balance for E\n",
    "    eq[3] = 100 - 0.4 * n_liq - nx         # material balance for X\n",
    "    # energy balance\n",
    "    eq[4] = 30.765 * nb + 33.47 * nt + 35.98 * ne + 36.07 * nx - 125 * (0.135 * 100 + 0.160 * 100 + 0.185 * 100 + 0.181 * 100)\n",
    "    \n",
    "    return eq"
   ]
  },
  {
   "cell_type": "code",
   "execution_count": 69,
   "id": "622ade13",
   "metadata": {},
   "outputs": [
    {
     "name": "stdout",
     "output_type": "stream",
     "text": [
      "# of equations m = 5 and # of unknowns N = 5\n",
      "Matrix A:\n",
      "[[-1.    0.    0.    0.   -0.08]\n",
      " [ 0.   -1.    0.    0.   -0.17]\n",
      " [ 0.    0.   -1.    0.   -0.35]\n",
      " [ 0.    0.    0.   -1.   -0.4 ]\n",
      " [30.76 33.47 35.98 36.07  0.  ]]\n",
      "Vector b:\n",
      "[-100.  -100.  -100.  -100.  8262.5]\n",
      "\n",
      "\n",
      "Outlet vapor flow rate: 247.44 mol/min\n",
      "Composition: B: 0.355; T: 0.299, E:0.188, X: 0.158\n"
     ]
    }
   ],
   "source": [
    "\"\"\"\n",
    "make matrices and solve the problem\n",
    "\"\"\"\n",
    "A,b = makematrix(forward_2,5) \n",
    "print(f\"Matrix A:\\n{A}\")\n",
    "print(f\"Vector b:\\n{b}\")\n",
    "\n",
    "solution = np.linalg.solve(A, b)\n",
    "\n",
    "n_gas = 400 - solution[4]\n",
    "yb = solution[0] / n_gas\n",
    "yt = solution[1] / n_gas\n",
    "ye = solution[2] / n_gas\n",
    "yx = solution[3] / n_gas\n",
    "\n",
    "print('\\n')\n",
    "print(f'Outlet vapor flow rate: {n_gas:.2f} mol/min')\n",
    "print(f'Composition: B: {yb:.3f}; T: {yt:.3f}, E:{ye:.3f}, X: {yx:.3f}')"
   ]
  },
  {
   "cell_type": "markdown",
   "id": "733b995c",
   "metadata": {},
   "source": [
    "### Part 4\n",
    "Work done by the system to cause the 'sudden pressure reduction' is missing from the energy balance, which should decrease the flow rate of vapors computed. "
   ]
  }
 ],
 "metadata": {
  "kernelspec": {
   "display_name": "base-ml",
   "language": "python",
   "name": "python3"
  },
  "language_info": {
   "codemirror_mode": {
    "name": "ipython",
    "version": 3
   },
   "file_extension": ".py",
   "mimetype": "text/x-python",
   "name": "python",
   "nbconvert_exporter": "python",
   "pygments_lexer": "ipython3",
   "version": "3.12.11"
  }
 },
 "nbformat": 4,
 "nbformat_minor": 5
}
