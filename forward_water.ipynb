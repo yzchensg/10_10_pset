{
  "cells": [
    {
      "cell_type": "code",
      "execution_count": 4,
      "metadata": {
        "id": "gj8WABYms4ZZ"
      },
      "outputs": [
        {
          "name": "stdout",
          "output_type": "stream",
          "text": [
            "make sure to upload tenten_v1.py\n"
          ]
        }
      ],
      "source": [
        "print(\"make sure to upload tenten_v1.py\")\n",
        "from tenten_v1 import makematrix\n",
        "import numpy as np"
      ]
    },
    {
      "cell_type": "code",
      "execution_count": 5,
      "metadata": {
        "id": "_M0B2sNg0vrT"
      },
      "outputs": [],
      "source": [
        "def forward(X):\n",
        "    \"\"\"\n",
        "    A 4x4 problem cumbersome by hand\n",
        "    Forward Water Inc forward osmosis unit\n",
        "    Purpose: extract useful water out of the surprisingly large amount of saltwater produced in oil extraction\n",
        "    4 streams\n",
        "      in\n",
        "        salty feed water (3.5% salt S in water W) - m1\n",
        "        dried \"draw solution (35% hygroscopic stuff H, rest W) - m2\n",
        "      out\n",
        "        concentrated brine (send back underground - 10% S, 2.5% H) - m3\n",
        "        wet \"draw solution\" (20% H, 0.1% S) - m4\n",
        "\n",
        "   Question:  water recovery rate?\n",
        "\n",
        "   Need to solve for m1 through m4\n",
        "   Balances in the form in = out, since no reaction\n",
        "   total\n",
        "      m1  + m2  = m3  + m4\n",
        "  salt\n",
        "      0.035m1 = 0.1 m3 + 0.001 m4\n",
        "  hygroscopic\n",
        "      0.35m2 = 0.2 m4 + 0.025 m3\n",
        "  should we add water?\n",
        "\n",
        "    \"\"\"\n",
        "    m1, m2, m3, m4 = X # this is pretty sweet, with 4 unknowns\n",
        "\n",
        "    m = 4 # 3 independent balance equations total, salt, draw chemical\n",
        "    eq = np.zeros(m)\n",
        "\n",
        "    # material balances, open system CV, steady-state, no reactions\n",
        "    #eq   = (ins)         - (outs)                    # material balance\n",
        "    eq[0] = (m1  + m2)    - (m3  + m4)                # Total\n",
        "    eq[1] = (0.035*m1)    - (0.1* m3 + 0.001* m4)     # Salt\n",
        "    eq[2] = (0.35*m2)     - (0.2* m4 + 0.025* m3)     # Draw Solution\n",
        "    eq[3] = m1 - 100\n",
        "\n",
        "    return eq\n",
        "\n"
      ]
    },
    {
      "cell_type": "code",
      "execution_count": 6,
      "metadata": {
        "colab": {
          "base_uri": "https://localhost:8080/"
        },
        "id": "GZj07Dxmos7C",
        "outputId": "b358f221-b4a2-4e97-c78f-ba19df17b012"
      },
      "outputs": [
        {
          "name": "stdout",
          "output_type": "stream",
          "text": [
            "# of equations m = 4 and # of unknowns N = 4\n",
            "Matrix A:\n",
            "[[ 1.     1.    -1.    -1.   ]\n",
            " [ 0.035  0.    -0.1   -0.001]\n",
            " [ 0.     0.35  -0.025 -0.2  ]\n",
            " [ 1.     0.     0.     0.   ]]\n",
            "Vector b:\n",
            "[ -0.  -0.  -0. 100.]\n",
            "\n",
            "Solution using numpy.linalg.solve: [100.    94.38  33.39 160.99]\n"
          ]
        }
      ],
      "source": [
        "\"\"\"\n",
        "make matrices and solve the problem\n",
        "\"\"\"\n",
        "A,b = makematrix(forward,4)  # we gave it 4 as the # of unknowns\n",
        "print(f\"Matrix A:\\n{A}\")\n",
        "print(f\"Vector b:\\n{b}\")\n",
        "\n",
        "solution = np.linalg.solve(A, b)\n",
        "\n",
        "# Set print options to limit to 2 decimal places\n",
        "np.set_printoptions(precision=2)\n",
        "print(f\"\\nSolution using numpy.linalg.solve: {solution}\")"
      ]
    }
  ],
  "metadata": {
    "colab": {
      "provenance": []
    },
    "kernelspec": {
      "display_name": "base-ml",
      "language": "python",
      "name": "python3"
    },
    "language_info": {
      "codemirror_mode": {
        "name": "ipython",
        "version": 3
      },
      "file_extension": ".py",
      "mimetype": "text/x-python",
      "name": "python",
      "nbconvert_exporter": "python",
      "pygments_lexer": "ipython3",
      "version": "3.12.11"
    }
  },
  "nbformat": 4,
  "nbformat_minor": 0
}
