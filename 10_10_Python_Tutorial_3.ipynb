{
  "nbformat": 4,
  "nbformat_minor": 0,
  "metadata": {
    "colab": {
      "provenance": []
    },
    "kernelspec": {
      "name": "python3",
      "display_name": "Python 3"
    },
    "language_info": {
      "name": "python"
    }
  },
  "cells": [
    {
      "cell_type": "markdown",
      "source": [
        "# **10.10 Python tutorial 3 - <br> Solving material balances with linear algebra in python**\n",
        "\n",
        "This tutorial builds upon your Python skills from Problem Set 1 (basic Python, NumPy arrays, Matplotlib plotting) and Problem Set 2 (functions, file I/O, loops, conditionals). Here, you will learn how to set up and solve systems of linear equations using `numpy`, a powerful Python library for numerical operations. This is a fundamental skill for solving many chemical engineering problems, like complex material and energy balances.  \n",
        "<br>\n",
        "\n",
        "**Learning objectives for this tutorial**  \n",
        "\n",
        "By the end of this tutorial, you will be able to:  \n",
        "\n",
        "\n",
        "*   Formulate material balance equations as a system of linear equations.\n",
        "*   Implement a Python function (such as `equations_function(X)`) that represents these equations.\n",
        "*   Use your function to verify a known solution (e.g., result from a hand calculation or your friends' calculations).\n",
        "*   Programmatically construct the coefficient matrix (A) and the constants vector (b) from your `equations_function`.\n",
        "*   Solve the system of linear equations using `np.linalg.solve` from the `numpy` library\n",
        "*   Interpret the results and understand the role of numerical precision, conceptually.\n",
        "\n",
        "<br>\n",
        "\n",
        "**Prerequisite knowledge**  \n",
        "\n",
        "\n",
        "*   Basic Python syntax (variables, operators, print statements)\n",
        "*   NumPy basics (creating arrays)\n",
        "*   Defining and calling Python functions (from Tutorial 2)\n",
        "*   Conditional statements (if/elif/else) and for loops (from Tutorial 2)\n",
        "*   Fundamental understanding of material balances (steady-state, with reaction)\n",
        "\n"
      ],
      "metadata": {
        "id": "3hnkbwke0XTj"
      }
    },
    {
      "cell_type": "markdown",
      "source": [
        "## Step 1: Material Balances as Linear Equations\n",
        "\n",
        "Many engineering problems, particularly material and energy balances at steady-state, can be expressed as a system of linear equations. For example, consider two unknown molar flow rates in stream 3, $n_{3,A}$ and $n_{3,B}$, and two constraints on them (of unknown origin, this is just to illustrate math and Python at this point).\n",
        "\n",
        "Equation 1:  $\\quad a_{11} \\cdot n_{3,A} + a_{12} \\cdot n_{3,B} = b_1$  \n",
        "Equation 2: $\\quad a_{21} \\cdot n_{3,A} + a_{22} \\cdot n_{3,B} = b_2$  \n",
        "\n",
        "Where $a_{ij}$ are coefficients and $b_i$ are constants.  \n",
        "(for example a combustion problem where $b_i$ are the flowrates of the reaction products and $a_{ij}$ are stoichiometric ratio -- ah ok this makes sense as a cheme problem now!) <br>\n",
        "\n",
        "\n",
        "In matrix form, this becomes $A \\cdot X = B$, where\n",
        "$A = \\begin{bmatrix}  a_{11} & a_{12} \\\\ a_{21} & a_{22} \\end{bmatrix},\\quad  X = \\begin{bmatrix} n_{3,A} \\\\ n_{3,B}  \\end{bmatrix}, \\quad  B = \\begin{bmatrix}b_1 \\\\ b_2  \\end{bmatrix}$  \n",
        "<br><br>\n",
        "Solving this system involves finding the values in the $X$ vector that satisfy both equations.  \n",
        "<br><br>\n",
        "\n",
        "## Step 2: The equations_function(X) Approach that 10.10 Uses\n",
        "\n",
        "Define a Python function that takes a NumPy array x (representing an array of unknown solution values) and returns a NumPy array `eq`. Each element `eq[i]` in the array `eq` represents the value of the i-th **equation** when the terms are rearranged such that the equation should be zero when the correct solution x is provided. This approach clarifies the definition of the equations from the solving mechanism.  \n",
        "<br>\n",
        "Example by hand: Solve for x and y:  \n",
        "Equation 1: $2x + 3y = 7 \\quad$ Equation 2: $x - y = 1$  \n",
        "\n",
        "First, rearrange to the form where the right side is zero (this often is differential equation form for our balances):  \n",
        "Equation 1: $2x + 3y - 7 = 0 \\quad$ Equation 2: $x - y - 1 = 0$  \n",
        "\n",
        "By hand if you subtract $2\\times Equation 2$, from $Equation 1$:<br>\n",
        "$Equation 1 - 2\\times Equation 2 = (2x + 3y - 7) - 2\\times(x - y - 1) = 5y - 5 = 0$  \n",
        "which gives $y = 1, x = 2$ (by substituting y = 1 into either equation)\n",
        "<br>\n",
        "Now, define the Python function with equations in the rearranged (differential equation for balances) forms:"
      ],
      "metadata": {
        "id": "xvaNSxDS1uzW"
      }
    },
    {
      "cell_type": "code",
      "execution_count": null,
      "metadata": {
        "id": "07l-Duf-0Vma"
      },
      "outputs": [],
      "source": [
        "import numpy as np\n",
        "\n",
        "def simple_equations(X_values):\n",
        "    \"\"\"\n",
        "    Represents the system of linear equations:\n",
        "    2x + 3y = 7\n",
        "    x - y = 1\n",
        "\n",
        "    Args:\n",
        "        X_values (np.ndarray): A 1D NumPy array representing the unknowns [x, y].\n",
        "\n",
        "    Returns:\n",
        "        np.ndarray: A 1D NumPy array containing the residuals of each equation.\n",
        "\n",
        "    Operations:\n",
        "        (1) first, distributes X_values to the variables we use in our equations\n",
        "        (2) calculate the \"residual\" (i.e. rearranged or differential form) equations\n",
        "        (3) return a single vector with all the residuals\n",
        "\n",
        "    Key Note:\n",
        "        Check to make sure # of equations = # of unknowns!\n",
        "    \"\"\"\n",
        "    x = X_values[0] # First element of X_values is 'x'\n",
        "    y = X_values[1] # Second element of X_values is 'y'\n",
        "\n",
        "    eq1_val = 2*x + 3*y - 7 # Equation 1 arranged to equal zero\n",
        "    eq2_val = x - y - 1     # Equation 2 arranged to equal zero\n",
        "\n",
        "    return np.array([eq1_val, eq2_val])\n",
        "\n",
        "# Test the function with some arbitrary values\n",
        "test_X = np.array([2.0, 1.0]) # This is the hand solution for x and y\n",
        "residuals = simple_equations(test_X)\n",
        "print(f\"Residuals for X = {test_X}: {residuals}\")\n",
        "\n",
        "# Try values that are not the solution\n",
        "test_X_wrong = np.array([0.0, 0.0])\n",
        "residuals_wrong = simple_equations(test_X_wrong)\n",
        "print(f\"Residuals for X = {test_X_wrong}: {residuals_wrong}\")"
      ]
    },
    {
      "cell_type": "markdown",
      "source": [
        "When `X_values` is the correct solution `[2, 1]`, the function returns `[0. 0.]`, indicating the equations are satisfied and the tested solution is correct. When it's not the solution, non-zero values are returned.  Turns out this function is very helpful to us.\n",
        "<br><br>\n",
        "\n",
        "## Step 3: Verification of the Manual Solution\n",
        "\n",
        "After manually solving the problem, verify the answer using this function.  \n",
        "\n",
        "\n",
        "*   Create a NumPy array with the manual solution.\n",
        "*   Call equations_function with this array.\n",
        "*   The returned values should be extremely close to zero. They may not be exactly zero due to floating-point precision issues. Values like 1e-15 or -2.3e-16 are essentially zero.\n"
      ],
      "metadata": {
        "id": "Dq9qIBUY7eT3"
      }
    },
    {
      "cell_type": "code",
      "source": [
        "# Assuming you solved manually and found x=2, y=1\n",
        "X_manual = np.array([2.0, 1.0])\n",
        "residuals_manual = simple_equations(X_manual)\n",
        "print(f\"\\nVerification of Manual Solution (all results of rearranged equations should be near zero): {residuals_manual}\")"
      ],
      "metadata": {
        "id": "mqVgsfLo75P6"
      },
      "execution_count": null,
      "outputs": []
    },
    {
      "cell_type": "markdown",
      "source": [
        "## Step 4: Programmatic Construction of Matrix A and Vector b\n",
        "\n",
        "This is a powerful numerical technique!  \n",
        "Instead of manually typing out the A and b matrices manually, use the `equations_function` to derive them.  <br>\n",
        "\n",
        "A system of linear equations can be written as\n",
        "$A \\cdot X - B = 0$, where  \n",
        "`equations_function(X)` returns the vector array resulting from the operation $A \\cdot X - B $, and give you a vector of $0$'s when $X$ is the solution.<br><br>\n",
        "Here's a key concept: you get a result of $0$ when $X$ is the solution, but you still get values `equations_function(X)` no matter what $X$ you call it with.\n",
        "<br>\n",
        "As discussed in the **required reading**, you recall that we can carefully feed test values for $X$ consisting of 0's and 1's to determine $A$ and $B$.  Or more precisely, B and A.  \n",
        "<br>\n",
        "\n",
        "1.   Finding $B$ from `equations_function(X)`:  \n",
        "    If X is a vector of all zeros, then $A \\cdot 0 - B = -B$. <br>So, calling equations_function with an $X$ of all zeros will directly return $(- B)$ to you\n",
        "2.   Finding columns of $A$:\n",
        "    Consider how `equations_function(X)` behaves when only one element of $X$ is 1 and the rest are 0.  \n",
        "    For example if $X = [1, 0]$, then `equations_function([1, 0])` returns  \n",
        "$A \\cdot \\begin{bmatrix} 1 \\\\ 0  \\end{bmatrix} - B =  \\begin{bmatrix}  a_{11} & 0 \\\\ a_{21} & 0 \\end{bmatrix}-B$\n",
        "\n",
        "<br><br>\n",
        "This result is the first column of $A$ minus $B$.\n",
        "So:\n",
        "\n",
        "\n",
        "*   knowing $B$ already, (`equations_function([1, 0]) + B`) will yield the first column of $A$.\n",
        "*   Similarly, (`equations_function([0, 1]) + B`) will yield the second column of $A$.  \n",
        "\n",
        "<br>\n",
        "\n",
        "\n",
        "Here's \"brute force\" code for that -- remember your loops:"
      ],
      "metadata": {
        "id": "DL-BpQqw8Bd2"
      }
    },
    {
      "cell_type": "code",
      "source": [
        "# --- Step 4: Constructing A and b ---\n",
        "\n",
        "num_unknowns = 2 # We have two unknowns, x and y\n",
        "\n",
        "# 4.1: Construct Vector b\n",
        "X_zeros = np.zeros(num_unknowns)        #Initializing with all zeros\n",
        "b = -simple_equations(X_zeros)          # determining b\n",
        "print(f\"\\nb (from equations_function(X_zeros)): {b}\")\n",
        "\n",
        "# 4.2: Construct Matrix A\n",
        "A_matrix = np.zeros((num_unknowns, num_unknowns)) # Initialize an empty A matrix\n",
        "\n",
        "for i in range(num_unknowns):               # looping over # of unknowns\n",
        "    X_dummy = np.zeros(num_unknowns)\n",
        "    X_dummy[i] = 1.0 # Set the i-th unknown to 1, others to 0\n",
        "\n",
        "    # Calculate the corresponding column of A\n",
        "    A_matrix[:, i] = simple_equations(X_dummy) + b    # fills all of column i\n",
        "\n",
        "print(f\"Constructed Coefficient Matrix A:\\n{A_matrix}\")"
      ],
      "metadata": {
        "id": "UsED65usAdAg"
      },
      "execution_count": null,
      "outputs": []
    },
    {
      "cell_type": "markdown",
      "source": [
        "## Step 5: Solving with numpy.linalg.solve\n",
        "\n",
        "NumPy provides a function, `np.linalg.solve(A, b)`, to solve systems of linear equations in the standard form $A \\cdot X = B$.  \n",
        "\n",
        "\n",
        "*   You created $B$ from Step 4 computationally.\n",
        "*   You have $Amatrix$ from Step 4 computationally."
      ],
      "metadata": {
        "id": "z9Sb1vHZAzwy"
      }
    },
    {
      "cell_type": "code",
      "source": [
        "# --- Step 5: Solving with numpy.linalg.solve ---\n",
        "\n",
        "X_numpy_solution = np.linalg.solve(A_matrix, b)\n",
        "\n",
        "print(f\"\\nSolution using numpy.linalg.solve: {X_numpy_solution}\")\n",
        "print(f\"x = {X_numpy_solution[0]:.2f}\")\n",
        "print(f\"y = {X_numpy_solution[1]:.2f}\")"
      ],
      "metadata": {
        "id": "nxch_Y2gBR0k"
      },
      "execution_count": null,
      "outputs": []
    },
    {
      "cell_type": "markdown",
      "source": [
        "## Step 7: Comparing Solutions\n",
        "\n",
        "Finally, compare the results to ensure consistency."
      ],
      "metadata": {
        "id": "T7FChBf8BtHX"
      }
    },
    {
      "cell_type": "code",
      "source": [
        "# --- Step 6: Comparing Solutions ---\n",
        "\n",
        "print(\"\\n--- Solution Comparison ---\")\n",
        "print(f\"Manual Solution (x, y): {X_manual[0]:.2f}, {X_manual[1]:.2f}\")\n",
        "print(f\"NumPy Solution (x, y): {X_numpy_solution[0]:.2f}, {X_numpy_solution[1]:.2f}\")\n",
        "\n",
        "# Using np.allclose() is best for comparing floating-point numbers\n",
        "if np.allclose(X_manual, X_numpy_solution):\n",
        "    print(\"The manual and NumPy solutions are in excellent agreement!\")\n",
        "else:\n",
        "    print(\"There is a discrepancy between the manual and NumPy solutions.\")\n",
        "\n"
      ],
      "metadata": {
        "id": "I1jMs2ZpBxUo"
      },
      "execution_count": null,
      "outputs": []
    },
    {
      "cell_type": "markdown",
      "source": [
        "This tutorial covered the use of the `equations_function(X)` and the programmatic construction of $A$ and $B$ as key skills.\n",
        "\n",
        "## Advantages of the programmatic approach:  \n",
        "Defining equations in a function and programmatically building $A$ and $B$ matrices,then using `numpy.linalg.solve`, makes solving systems of linear equations much more efficient and less prone to errors for larger or more complex problems than solving by hand.  \n",
        "\n",
        "You just write all your equations in residual form with little or no algebra, as long as they are linear; this keeps the focus on ChemE not math.\n",
        "\n",
        "It also allows you to quickly and programmatically test different inputs or other parameters."
      ],
      "metadata": {
        "id": "-qwQrLxYCHNo"
      }
    },
    {
      "cell_type": "markdown",
      "source": [
        "# Before we leave!\n",
        "Why stop there when we can generalize matrix generation in a reuseable function?\n",
        "\n",
        "Below is a basic general-purpose function that will create matrices for well-defined matrices (we'll extend it next week to well-defined problems).\n",
        "Interestingly, when you call this function, the name of the function your \"rearranged\" equations are in, is what you call the function with. And before I sign off, now that you're familiar with this, we'll try and package it so you can import it like a library:"
      ],
      "metadata": {
        "id": "2XIpUz1TuvDx"
      }
    },
    {
      "cell_type": "code",
      "source": [
        "def makematrix(func,N):\n",
        "  \"\"\"\n",
        "  Numerical method for generating a matrix for a linear system of equations\n",
        "  First b is determined by setting all variables values to 0\n",
        "  then A is formed column by column by setting one variable at a time to 1\n",
        "\n",
        "  It takes two input arguments\n",
        "    1. the function name with the linear equations\n",
        "    2. the number of unknowns (note number of equations can be different)\n",
        "\n",
        "  It performs a couple of basic checks\n",
        "    1. All-zero column, means you have an unneeded unknown or errors\n",
        "    2. All-zero row, an unneeded equation or errors\n",
        "    3. Linearity.  By testing a multiple, do you get the same multiple of the result vector\n",
        "  \"\"\"\n",
        "\n",
        "  dummy = np.zeros(N) # initializing a vector with N elements\n",
        "  b = -func(dummy)              # determine b\n",
        "  m = len(b)                      # can have different equations != N\n",
        "  print(f\"# of equations m = {m} and # of unknowns N = {N}\")\n",
        "  if m != N:\n",
        "    if m < N:\n",
        "      print (f\"too few equations for N = {N}\")\n",
        "    else:\n",
        "      print (\"too many equations for N\")\n",
        "\n",
        "  A = np.zeros((m,N))             # create a placeholder A with zeros\n",
        "  for j in range(N):              # proceed columnwise for every unknown\n",
        "    dummy = np.zeros(N)           # initializing dummy to all zeros\n",
        "    dummy[j] = 1                  # setting unknown to 1\n",
        "    A[:,j] = func(dummy) + b    # computing column j of A\n",
        "\n",
        "    is_all_zeros = np.all(A[:,j] == 0)  # check - you don't want an all-zero column!\n",
        "    if is_all_zeros:\n",
        "      print(f\"Bad matrix, column {j +1}  is all zeros.\")\n",
        "\n",
        "  for i in range(m):\n",
        "    is_all_zeros = np.all(A[i,:] == 0)\n",
        "    if is_all_zeros:\n",
        "      print(f\"Bad matrix, row {i+1} is all zeros.\")    # another bad matrix check\n",
        "\n",
        "  # a linearity test\n",
        "  testlin1 = func(np.ones(N)) + b\n",
        "  testlin2 = (func(10*np.ones(N)) + b)/10\n",
        "  testlin = np.allclose(testlin1,testlin2,atol = 1e-10)\n",
        "  if testlin == False:\n",
        "    print (\"function contains nonlinear equations\")\n",
        "\n",
        "\n",
        "  return A,b"
      ],
      "metadata": {
        "id": "D1D-id4GvJAV"
      },
      "execution_count": null,
      "outputs": []
    },
    {
      "cell_type": "markdown",
      "source": [
        "## Using `makematrix`"
      ],
      "metadata": {
        "id": "02OX9Mwcwlbv"
      }
    },
    {
      "cell_type": "code",
      "source": [
        "A,b = makematrix(simple_equations,2)  # we gave it 2 as the # of unknowns\n",
        "print(f\"Matrix A:\\n{A}\")\n",
        "print(f\"Vector b:\\n{b}\")\n",
        "\n",
        "X_numpy_solution = np.linalg.solve(A_matrix, b)\n",
        "\n",
        "print(f\"\\nSolution using numpy.linalg.solve: {X_numpy_solution}\")\n",
        "print(f\"x = {X_numpy_solution[0]:.2f}\")\n",
        "print(f\"y = {X_numpy_solution[1]:.2f}\")"
      ],
      "metadata": {
        "id": "NqJkYkJgwyrI"
      },
      "execution_count": null,
      "outputs": []
    },
    {
      "cell_type": "code",
      "source": [
        "def forward(X):\n",
        "    \"\"\"\n",
        "    A 4x4 problem cumbersome by hand\n",
        "    Forward Water Inc forward osmosis unit\n",
        "    Purpose: extract useful water out of the surprisingly large amount of saltwater produced in oil extraction\n",
        "    4 streams\n",
        "      in\n",
        "        salty feed water (3.5% salt S in water W) - m1\n",
        "        dried \"draw solution (35% hygroscopic stuff H, rest W) - m2\n",
        "      out\n",
        "        concentrated brine (send back underground - 10% S, 2.5% H) - m3\n",
        "        wet \"draw solution\" (20% H, 0.1% S) - m4\n",
        "\n",
        "   Question:  water recovery rate?\n",
        "\n",
        "   Need to solve for m1 through m4\n",
        "   Balances in the form in = out, since no reaction\n",
        "   total\n",
        "      m1  + m2  = m3  + m4\n",
        "  salt\n",
        "      0.035m1 = 0.1 m3 + 0.001 m4\n",
        "  hygroscopic\n",
        "      0.35m2 = 0.2 m4 + 0.025 m3\n",
        "  should we add water?\n",
        "\n",
        "    \"\"\"\n",
        "    m1, m2, m3, m4 = X # this is pretty sweet, with 4 unknowns\n",
        "\n",
        "    m = 3 # 3 independent balance equations total, salt, draw chemical\n",
        "    eq = np.zeros(m)\n",
        "\n",
        "    # material balances, open system CV, steady-state, no reactions\n",
        "    #eq   = (ins)         - (outs)                    # material balance\n",
        "    eq[0] = (m1  + m2)    - (m3  + m4)                # Total\n",
        "    eq[1] = (0.035*m1)    - (0.1* m3 + 0.001* m4)     # Salt\n",
        "    eq[2] = (0.35*m2)     - (0.2* m4 + 0.025* m3)     # Draw Solution\n",
        "\n",
        "    return eq\n",
        "\n"
      ],
      "metadata": {
        "id": "_M0B2sNg0vrT"
      },
      "execution_count": null,
      "outputs": []
    },
    {
      "cell_type": "code",
      "source": [
        "\"\"\"\n",
        "make matrices and solve the problem\n",
        "\"\"\"\n",
        "A,b = makematrix(forward,4)  # we gave it 4 as the # of unknowns\n",
        "print(f\"Matrix A:\\n{A}\")\n",
        "print(f\"Vector b:\\n{b}\")\n",
        "\n",
        "\n",
        "\n",
        "solution = np.linalg.solve(A, b)\n",
        "\n",
        "# Set print options to limit to 2 decimal places\n",
        "np.set_printoptions(precision=2)\n",
        "print(f\"\\nSolution using numpy.linalg.solve: {solution}\")"
      ],
      "metadata": {
        "id": "GZj07Dxmos7C"
      },
      "execution_count": null,
      "outputs": []
    },
    {
      "cell_type": "markdown",
      "source": [
        "### Very last note:  \n",
        "you don't need to copy that massive makematrix function, but it's good you know what it does.\n",
        "\n",
        "We've put it in tenten_v1.py (we will be updating it with more features once we learn about them)\n",
        "\n",
        "So upload tenten_v1.py into your working files as you did with my_data.txt last week, and then put the following one line of code at the top of your script, similar to importing numpy and so on\n",
        "\n",
        "Then you can just focus on creating a function with your material and energy balances and constraints almost exactly as you would write them by hand.\n",
        "\n",
        "\n",
        "Computing solutions literally becomes two lines of code after that.  Of course you need to output the solution as well, though."
      ],
      "metadata": {
        "id": "LKpC-CF0u1rK"
      }
    },
    {
      "cell_type": "code",
      "source": [
        "from tenten_v1 import makematrix   # make sure to add tenten_v1.py to your active files, and put this at the top of your script\n",
        "# normally you'd define your mass and energy balances first, i.e. the problems you're trying to solve\n",
        "\n",
        "\"\"\"\n",
        "then solve the problems.  make matrices and compute the solution\n",
        "\"\"\"\n",
        "A,b = makematrix(forward,4)  # we gave it 4 as the # of unknown\n",
        "solution = np.linalg.solve(A, b)\n",
        "\n",
        "# Set print options to limit to 2 decimal places\n",
        "np.set_printoptions(precision=2)\n",
        "print(f\"\\nSolution using numpy.linalg.solve: {solution}\")"
      ],
      "metadata": {
        "colab": {
          "base_uri": "https://localhost:8080/"
        },
        "id": "80fgJvh1u0OV",
        "outputId": "1a97cd66-8897-459d-db50-1027947f00c3"
      },
      "execution_count": null,
      "outputs": [
        {
          "output_type": "stream",
          "name": "stdout",
          "text": [
            "# of equations m = 4 and # of unknowns N = 4\n",
            "\n",
            "Solution using numpy.linalg.solve: [100.    94.38  33.39 160.99]\n"
          ]
        }
      ]
    }
  ]
}