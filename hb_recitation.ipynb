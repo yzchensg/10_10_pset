{
  "nbformat": 4,
  "nbformat_minor": 0,
  "metadata": {
    "colab": {
      "provenance": []
    },
    "kernelspec": {
      "name": "python3",
      "display_name": "Python 3"
    },
    "language_info": {
      "name": "python"
    }
  },
  "cells": [
    {
      "cell_type": "code",
      "source": [
        "print(\"make sure to upload tenten_v2.py\")\n",
        "from tenten_v2 import makematrix\n",
        "from tenten_v2 import checkmatrix\n",
        "import numpy as np"
      ],
      "metadata": {
        "id": "gj8WABYms4ZZ",
        "colab": {
          "base_uri": "https://localhost:8080/"
        },
        "outputId": "e71e26da-f577-4c79-f605-7f6da53fc384"
      },
      "execution_count": null,
      "outputs": [
        {
          "output_type": "stream",
          "name": "stdout",
          "text": [
            "make sure to upload tenten_v2.py\n"
          ]
        }
      ]
    },
    {
      "cell_type": "code",
      "source": [
        "def hb(X):\n",
        "    \"\"\"\n",
        "haber-bosch process as described in Part 1 lecture, changing ratio constraint to 5\n",
        "\n",
        "Need to solve for:\n",
        "n1N, n1H, n1A \\\n",
        "n2N, n2H, n2A \\\n",
        "n3N, n3H, n3A \\\n",
        "n4N, n4H, n4A \\\n",
        "n5N, n5H, n5A \\\n",
        "xi\n",
        "\n",
        "Mix point balance equations:\n",
        "(in) = (out)\n",
        "(n1N + n5N) = (n2N)\n",
        "(n1H + n5H) = (n2H)\n",
        "(n1A + n5A) = (n2A)\n",
        "\n",
        "Reactor balance equations\n",
        "(in + gen) = (out + cons)\n",
        "(n2N)           = (n3N + xi)\n",
        "(n2H)           = (n3H + 3 * xi)\n",
        "(n2A + 2 * xi)  = (n3A)\n",
        "\n",
        "Condenser balance equations\n",
        "(in) = (out)\n",
        "(n3N)           = (n4N + n5N)\n",
        "(n3H)           = (n4H + n5H)\n",
        "(n3A)           = (n4A + n5A)\n",
        "\n",
        "\n",
        "  constraints\n",
        "    n1A = 0       # stream 1\n",
        "    n2H = 5 * n2N # stream 2\n",
        "    n4A = 99     # stream 4\n",
        "    n4N = 1       # stream 4\n",
        "    n4H = 0       # stream 4\n",
        "    n5A = 10      # stream 5\n",
        "    n5N + n5H = 990 # stream 5\n",
        "\n",
        "    \"\"\"\n",
        "    n1N, n1H, n1A, \\\n",
        "    n2N, n2H, n2A, \\\n",
        "    n3N, n3H, n3A, \\\n",
        "    n4N, n4H, n4A, \\\n",
        "    n5N, n5H, n5A, \\\n",
        "    xi = X\n",
        "\n",
        "    # = X # this is pretty sweet, with 4 unknowns\n",
        "\n",
        "    m = 16 # 3 independent balance equations total, salt, draw chemical\n",
        "    eq = np.zeros(m)\n",
        "\n",
        "    # material balances, open system CV, steady-state, no reactions\n",
        "    #eq   = (ins)         - (outs)                    # material balance\n",
        "    # mix point eq[] = (in) - (out)\n",
        "    eq[0] = (n1N + n5N)         - (n2N)\n",
        "    eq[1] = (n1H + n5H)         - (n2H)\n",
        "    eq[2] = (n1A + n5A)         - (n2A)\n",
        "    # reactor eq[] = (in + product) - (out + reactant)\n",
        "    eq[3] = (n2N)               - (n3N + xi)\n",
        "    eq[4] = (n2H)               - (n3H + 3 * xi)\n",
        "    eq[5] = (n2A + 2 * xi)      - (n3A)\n",
        "    # condenser (in = out)\n",
        "    eq[6] = (n3N)               - (n4N + n5N)\n",
        "    eq[7] = (n3H)               - (n4H + n5H)\n",
        "    eq[8] = (n3A)               - (n4A + n5A)\n",
        "    # constraints eq[] = (left hand side) - (right hand side)\n",
        "    eq[9] = n1A                 - 0\n",
        "    eq[10] = n2H * 5            - n2N\n",
        "    eq[11] = n4A                - 99\n",
        "    eq[12] = n4N                - 1\n",
        "    eq[13] = n4H                - 0\n",
        "    eq[14] = n5A                - 10\n",
        "    eq[15] = n5N + n5H          - 990\n",
        "\n",
        "\n",
        "\n",
        "    return eq\n",
        "\n"
      ],
      "metadata": {
        "id": "_M0B2sNg0vrT"
      },
      "execution_count": null,
      "outputs": []
    },
    {
      "cell_type": "code",
      "source": [
        "\"\"\"\n",
        "make matrices and solve the problem\n",
        "\"\"\"\n",
        "A,b = makematrix(hb,16)  # we gave it 16 as the # of unknowns\n",
        "output = checkmatrix(A)  # we gave it 16 as the # of unknowns\n",
        "#print(f\"Matrix A:\\n{A}\")\n",
        "#print(f\"Vector b:\\n{b}\")\n",
        "rk = np.linalg.matrix_rank(A)\n",
        "print(rk)\n",
        "\n",
        "solution = np.linalg.solve(A, b)\n",
        "\n",
        "# Set print options to limit to 2 decimal places\n",
        "np.set_printoptions(precision=2)\n",
        "print(f\"\\nSolution using numpy.linalg.solve: {solution}\")\n",
        "\n",
        "X = (1) * solution[15] / solution[4]\n",
        "print(f\"\\nSolution using numpy.linalg.solve: {X}\")\n",
        "\n"
      ],
      "metadata": {
        "id": "GZj07Dxmos7C",
        "colab": {
          "base_uri": "https://localhost:8080/"
        },
        "outputId": "8f7afc9f-7f1e-469b-f854-d0713cfa339c"
      },
      "execution_count": null,
      "outputs": [
        {
          "output_type": "stream",
          "name": "stdout",
          "text": [
            "# of equations m = 16 and # of unknowns N = 16\n",
            "16\n",
            "\n",
            "Solution using numpy.linalg.solve: [5.05e+01 1.49e+02 0.00e+00 9.91e+02 1.98e+02 1.00e+01 9.41e+02 4.97e+01\n",
            " 1.09e+02 1.00e+00 2.84e-14 9.90e+01 9.40e+02 4.97e+01 1.00e+01 4.95e+01]\n",
            "\n",
            "Solution using numpy.linalg.solve: 0.2497897392767031\n"
          ]
        }
      ]
    }
  ]
}